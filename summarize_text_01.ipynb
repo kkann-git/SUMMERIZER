{
 "cells": [
  {
   "cell_type": "code",
   "execution_count": 12,
   "metadata": {},
   "outputs": [],
   "source": [
    "# https://www.geeksforgeeks.org/python-text-summarizer/\n",
    "# importing libraries\n",
    "import nltk\n",
    "from nltk.corpus import stopwords\n",
    "from nltk.tokenize import word_tokenize, sent_tokenize\n",
    "\n",
    "# importing all the required modules\n",
    "import pyttsx3, PyPDF2"
   ]
  },
  {
   "cell_type": "code",
   "execution_count": 13,
   "metadata": {},
   "outputs": [],
   "source": [
    "# Input text - to summarize\n",
    "# text = 'It is dark and the dark is scary. I do not like scary moments.'\n",
    "# text = 'There are many techniques available to generate extractive summarization to keep it simple, I will be using an unsupervised learning approach to find the sentences similarity and rank them. Summarization can be defined as a task of producing a concise and fluent summary while preserving key information and overall meaning. One benefit of this will be, you don’t need to train and build a model prior start using it for your project. It’s good to understand Cosine similarity to make the best use of the code you are going to see. Cosine similarity is a measure of similarity between two non-zero vectors of an inner product space that measures the cosine of the angle between them. Its measures cosine of the angle between vectors. The angle will be 0 if sentences are similar.'"
   ]
  },
  {
   "cell_type": "code",
   "execution_count": 14,
   "metadata": {},
   "outputs": [],
   "source": [
    "def remove(string):\n",
    "    return \" \".join(string.split())\n",
    "\n",
    "# creating a text reader object\n",
    "text_folder = 'D:/Kevin/Python Scripts/_Projects/summarizer/inputs/Text/'\n",
    "# text_sample = 'example_text.txt'\n",
    "output_text = 'D:/Kevin/Python Scripts/_Projects/summarizer/output/summary_text/'\n",
    "output_audio = 'D:/Kevin/Python Scripts/_Projects/summarizer/output/summary_audio/'\n",
    "\n",
    "with open(text_folder + \"Reaffirming Housing as Infrastructure [ILR Edits][5859]kk.txt\", \"r\", encoding=\"utf-8\") as f:\n",
    "    lines = f.readlines()    \n",
    "\n",
    "# using list comprehension\n",
    "listToStr = ' '.join([remove(str(elem)) for elem in lines])\n",
    "# print(listToStr)"
   ]
  },
  {
   "cell_type": "code",
   "execution_count": 15,
   "metadata": {},
   "outputs": [],
   "source": [
    "# Input text - to summarize\n",
    "# text = 'It is dark and the dark is scary. I do not like scary moments.'\n",
    "# text = 'There are many techniques available to generate extractive summarization to keep it simple, I will be using an unsupervised learning approach to find the sentences similarity and rank them. Summarization can be defined as a task of producing a concise and fluent summary while preserving key information and overall meaning. One benefit of this will be, you don’t need to train and build a model prior start using it for your project. It’s good to understand Cosine similarity to make the best use of the code you are going to see. Cosine similarity is a measure of similarity between two non-zero vectors of an inner product space that measures the cosine of the angle between them. Its measures cosine of the angle between vectors. The angle will be 0 if sentences are similar.'"
   ]
  },
  {
   "cell_type": "code",
   "execution_count": 16,
   "metadata": {},
   "outputs": [],
   "source": [
    "# Tokenizing the text\n",
    "stopWords = set(stopwords.words(\"english\"))\n",
    "words = word_tokenize(listToStr)"
   ]
  },
  {
   "cell_type": "code",
   "execution_count": 17,
   "metadata": {},
   "outputs": [],
   "source": [
    "# Creating a frequency table to keep the \n",
    "# score of each word\n",
    "\n",
    "freqTable = dict()\n",
    "for word in words:\n",
    "    word = word.lower()\n",
    "    if word in stopWords:\n",
    "        continue\n",
    "    if word in freqTable:\n",
    "        freqTable[word] += 1\n",
    "    else:\n",
    "        freqTable[word] = 1"
   ]
  },
  {
   "cell_type": "code",
   "execution_count": 18,
   "metadata": {},
   "outputs": [],
   "source": [
    "# Creating a dictionary to keep the score\n",
    "# of each sentence\n",
    "sentences = sent_tokenize(listToStr)\n",
    "sentenceValue = dict()\n",
    "\n",
    "for sentence in sentences:\n",
    "    for word, freq in freqTable.items():\n",
    "        if word in sentence.lower():\n",
    "            if sentence in sentenceValue:\n",
    "                sentenceValue[sentence] += freq\n",
    "            else:\n",
    "                sentenceValue[sentence] = freq"
   ]
  },
  {
   "cell_type": "code",
   "execution_count": 19,
   "metadata": {},
   "outputs": [],
   "source": [
    "sumValues = 0\n",
    "for sentence in sentenceValue:\n",
    "    sumValues += sentenceValue[sentence]\n",
    "\n",
    "# Average value of a sentence from the original text\n",
    "average = int(sumValues / len(sentenceValue))\n",
    "\n",
    "# Storing sentences into our summary.\n",
    "summary = ''\n",
    "for sentence in sentences:\n",
    "    if (sentence in sentenceValue) and (sentenceValue[sentence] > (1.2 * average)):\n",
    "        summary += \" \" + sentence\n",
    "# print(summary)\n",
    "\n",
    "# Writing a Single Line to a Text File\n",
    "\n",
    "with open(output_text + 'summary_text.txt', 'w', encoding=\"utf-8\") as f:\n",
    "    f.write(summary)"
   ]
  },
  {
   "cell_type": "code",
   "execution_count": 20,
   "metadata": {},
   "outputs": [],
   "source": [
    "#name mp3 file whatever you would like\n",
    "# https://www.freeconvert.com/mp3-compressor\n",
    "\n",
    "speaker = pyttsx3.init()\n",
    "# speaker.save_to_file(listToStr, pdf_folder + 'summary.mp3')\n",
    "speaker.save_to_file(summary, output_audio + 'summary_audio.mp3')\n",
    "speaker.runAndWait()\n",
    "\n",
    "speaker.stop()"
   ]
  },
  {
   "cell_type": "code",
   "execution_count": 21,
   "metadata": {},
   "outputs": [],
   "source": [
    "# init function to get an engine instance for the speech synthesis\n",
    "engine = pyttsx3.init()\n",
    "\n",
    "# say method on the engine that passing input text to be spoken\n",
    "engine.say('Hello sir, how may I help you, sir.')\n",
    "\n",
    "# run and wait method, it processes the voice commands.\n",
    "engine.runAndWait()"
   ]
  }
 ],
 "metadata": {
  "kernelspec": {
   "display_name": "Python 3.9.7 ('python3.9')",
   "language": "python",
   "name": "python3"
  },
  "language_info": {
   "codemirror_mode": {
    "name": "ipython",
    "version": 3
   },
   "file_extension": ".py",
   "mimetype": "text/x-python",
   "name": "python",
   "nbconvert_exporter": "python",
   "pygments_lexer": "ipython3",
   "version": "3.9.7"
  },
  "vscode": {
   "interpreter": {
    "hash": "19a061e56f628a25776d4cf27149df5d308ca934f6fd3ae511793aba1f92778d"
   }
  }
 },
 "nbformat": 4,
 "nbformat_minor": 2
}

{
 "cells": [
  {
   "cell_type": "code",
   "execution_count": 1,
   "metadata": {},
   "outputs": [],
   "source": [
    "# importing libraries\n",
    "import nltk\n",
    "from nltk.corpus import stopwords\n",
    "from nltk.tokenize import word_tokenize, sent_tokenize\n",
    "\n",
    "# importing all the required modules\n",
    "import pyttsx3, PyPDF2"
   ]
  },
  {
   "cell_type": "code",
   "execution_count": 2,
   "metadata": {},
   "outputs": [
    {
     "name": "stdout",
     "output_type": "stream",
     "text": [
      "78\n"
     ]
    }
   ],
   "source": [
    "# creating a pdf reader object\n",
    "pdf_folder = 'D:/Kevin/Python Scripts/_Projects/summarizer/inputs/PDF/'\n",
    "# pdf_sample = 'graduate-student-employment-manual.pdf'\n",
    "# pdf_sample = 'StroboStomp_HD_Manual_v1.1_EN.pdf'\n",
    "pdf_sample = 'Reaffirming Housing as Infrastructure [ILR Edits][5859].pdf'\n",
    "# pdf_sample = 'Sam_doc.pdf'\n",
    "# pdf_sample = 'animate.pdf'\n",
    "reader = PyPDF2.PdfReader(pdf_folder + pdf_sample, 'rb')\n",
    "\n",
    "output_text = 'D:/Kevin/Python Scripts/_Projects/summarizer/output/summary_text/'\n",
    "output_audio = 'D:/Kevin/Python Scripts/_Projects/summarizer/output/summary_audio/'\n",
    "\n",
    "# print the number of pages in pdf file\n",
    "print(len(reader.pages))"
   ]
  },
  {
   "cell_type": "code",
   "execution_count": 3,
   "metadata": {},
   "outputs": [
    {
     "name": "stdout",
     "output_type": "stream",
     "text": [
      " 1 OUT WITH THE OLD, IN WITH THE NEW (DEAL): REAFFIRMING HOUSING AS \n",
      "INFRASTRUCTURE  IN INDIANA  \n",
      "IU MCKINNEY HEALTH AND HUMAN RIGHTS CLINIC * \n",
      "I. INTRODUCTION  \n",
      "This topic presents a rare situation where beginning with a definition prove s beneficial. \n",
      "“Infrastructure ” has come to be associated with the fruits of civil engineering: roads, bridges, \n",
      "energy grids, water supplies. But “infrastructure ” is broader than that. Merriam -Webster defines \n",
      "the word as “the system of public works of a country, state, or  region; also: the resources (such \n",
      "as personnel, buildings, or equipment) required for an activity. ”1 \n",
      "Regarding affordable housing as infrastructure is neither bold nor novel.2 Housing has \n",
      "long been viewed as central to promoting economic growth and hous ehold stability.3 In 1933,  the \n",
      " \n",
      "*The Clinic is advised by Professor Fran Quigley. Special thanks to clinic students, \n",
      "Cassidy Segura Clouse, Samantha Kannmacher, Katie Whitley, an d Emily Tyner. The authors \n",
      "would like to thank Professor Florence Roisman and Mary Cate Pachciarz for their helpful \n",
      "comments.  \n",
      "1 Infrastructure , MERRIAM WEBSTER , https://www.merriam -\n",
      "webster.com/dictionary/infrastructure  (last visited Mar. 19, 2022 ) [https: //perma.cc/YZH3 -\n",
      "ULXH] .  \n",
      "2 See Juli Ponce, SOCIAL INFASTRUCTURE: Affordable Housing as Urban \n",
      "Infrastructure: A Comparative Study From a European Perspective , 43 URB. LAW. 223 (2011).   \n",
      "3 See James A. Kushner, Affordable Housing as Infrastructure in the Time of Global \n",
      "Warming , 43 URB. LAW. 179 (2011) (describing the five stages of affordable housing \n",
      " \n"
     ]
    }
   ],
   "source": [
    "# print the text of the first page\n",
    "print(reader.pages[0].extract_text())"
   ]
  },
  {
   "cell_type": "code",
   "execution_count": 4,
   "metadata": {},
   "outputs": [],
   "source": [
    "# create list of text\n",
    "def remove(string):\n",
    "    return \" \".join(string.split())\n",
    "\n",
    "text = []\n",
    "for page in range(len(reader.pages)):\n",
    "    # text.append(reader.pages[page].extract_text().strip().replace('\\n', ' '))\n",
    "    text.append(remove(reader.pages[page].extract_text())) \n",
    "# print(text)\n",
    "\n",
    "# using list comprehension\n",
    "listToStr = ' '.join([str(elem) for elem in text])\n",
    "# print(listToStr)"
   ]
  },
  {
   "cell_type": "code",
   "execution_count": null,
   "metadata": {},
   "outputs": [],
   "source": [
    "# Tokenizing the text\n",
    "stopWords = set(stopwords.words(\"english\"))\n",
    "words = word_tokenize(listToStr)"
   ]
  },
  {
   "cell_type": "code",
   "execution_count": null,
   "metadata": {},
   "outputs": [],
   "source": [
    "# Creating a frequency table to keep the \n",
    "# score of each word\n",
    "\n",
    "freqTable = dict()\n",
    "for word in words:\n",
    "    word = word.lower()\n",
    "    if word in stopWords:\n",
    "        continue\n",
    "    if word in freqTable:\n",
    "        freqTable[word] += 1\n",
    "    else:\n",
    "        freqTable[word] = 1"
   ]
  },
  {
   "cell_type": "code",
   "execution_count": null,
   "metadata": {},
   "outputs": [],
   "source": [
    "# Creating a dictionary to keep the score\n",
    "# of each sentence\n",
    "sentences = sent_tokenize(listToStr)\n",
    "sentenceValue = dict()\n",
    "\n",
    "for sentence in sentences:\n",
    "    for word, freq in freqTable.items():\n",
    "        if word in sentence.lower():\n",
    "            if sentence in sentenceValue:\n",
    "                sentenceValue[sentence] += freq\n",
    "            else:\n",
    "                sentenceValue[sentence] = freq"
   ]
  },
  {
   "cell_type": "code",
   "execution_count": null,
   "metadata": {},
   "outputs": [],
   "source": [
    "sumValues = 0\n",
    "for sentence in sentenceValue:\n",
    "    sumValues += sentenceValue[sentence]\n",
    "\n",
    "# Average value of a sentence from the original text\n",
    "average = int(sumValues / len(sentenceValue))\n",
    "\n",
    "# Storing sentences into our summary.\n",
    "summary = ''\n",
    "for sentence in sentences:\n",
    "    if (sentence in sentenceValue) and (sentenceValue[sentence] > (1.2 * average)):\n",
    "        summary += \" \" + sentence\n",
    "# print(summary)\n",
    "\n",
    "# Writing a Single Line to a Text File\n",
    "\n",
    "with open(output_text + 'summary_pdf.txt', 'w', encoding=\"utf-8\") as f:\n",
    "    f.write(remove(summary))"
   ]
  },
  {
   "cell_type": "code",
   "execution_count": null,
   "metadata": {},
   "outputs": [],
   "source": [
    "#name mp3 file whatever you would like\n",
    "# https://www.freeconvert.com/mp3-compressor\n",
    "\n",
    "speaker = pyttsx3.init()\n",
    "# speaker.save_to_file(listToStr, pdf_folder + 'summary.mp3')\n",
    "speaker.save_to_file(summary, output_audio + 'summary_audio.mp3')\n",
    "speaker.runAndWait()\n",
    "\n",
    "speaker.stop()"
   ]
  },
  {
   "cell_type": "code",
   "execution_count": null,
   "metadata": {},
   "outputs": [],
   "source": [
    "# init function to get an engine instance for the speech synthesis\n",
    "engine = pyttsx3.init()\n",
    "\n",
    "# say method on the engine that passing input text to be spoken\n",
    "engine.say('Hello sir, how may I help you, sir.')\n",
    "\n",
    "# run and wait method, it processes the voice commands.\n",
    "engine.runAndWait()"
   ]
  }
 ],
 "metadata": {
  "kernelspec": {
   "display_name": "Python 3.9.7 ('python3.9')",
   "language": "python",
   "name": "python3"
  },
  "language_info": {
   "codemirror_mode": {
    "name": "ipython",
    "version": 3
   },
   "file_extension": ".py",
   "mimetype": "text/x-python",
   "name": "python",
   "nbconvert_exporter": "python",
   "pygments_lexer": "ipython3",
   "version": "3.9.7"
  },
  "vscode": {
   "interpreter": {
    "hash": "19a061e56f628a25776d4cf27149df5d308ca934f6fd3ae511793aba1f92778d"
   }
  }
 },
 "nbformat": 4,
 "nbformat_minor": 2
}
